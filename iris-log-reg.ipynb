{
 "cells": [
  {
   "cell_type": "code",
   "execution_count": 1,
   "metadata": {
    "_cell_guid": "b1076dfc-b9ad-4769-8c92-a6c4dae69d19",
    "_uuid": "8f2839f25d086af736a60e9eeb907d3b93b6e0e5",
    "execution": {
     "iopub.execute_input": "2022-03-29T13:16:42.079600Z",
     "iopub.status.busy": "2022-03-29T13:16:42.079163Z",
     "iopub.status.idle": "2022-03-29T13:16:42.121346Z",
     "shell.execute_reply": "2022-03-29T13:16:42.120376Z",
     "shell.execute_reply.started": "2022-03-29T13:16:42.079484Z"
    }
   },
   "outputs": [],
   "source": [
    "# This Python 3 environment comes with many helpful analytics libraries installed\n",
    "# It is defined by the kaggle/python Docker image: https://github.com/kaggle/docker-python\n",
    "# For example, here's several helpful packages to load\n",
    "\n",
    "import numpy as np # linear algebra\n",
    "import pandas as pd # data processing, CSV file I/O (e.g. pd.read_csv)\n",
    "\n",
    "# Input data files are available in the read-only \"../input/\" directory\n",
    "# For example, running this (by clicking run or pressing Shift+Enter) will list all files under the input directory\n",
    "\n",
    "import os\n",
    "for dirname, _, filenames in os.walk('/kaggle/input'):\n",
    "    for filename in filenames:\n",
    "        print(os.path.join(dirname, filename))\n",
    "\n",
    "# You can write up to 20GB to the current directory (/kaggle/working/) that gets preserved as output when you create a version using \"Save & Run All\" \n",
    "# You can also write temporary files to /kaggle/temp/, but they won't be saved outside of the current session"
   ]
  },
  {
   "cell_type": "markdown",
   "metadata": {},
   "source": [
    "# Import requirement libraries"
   ]
  },
  {
   "cell_type": "code",
   "execution_count": 3,
   "metadata": {
    "execution": {
     "iopub.execute_input": "2022-03-29T13:19:04.387162Z",
     "iopub.status.busy": "2022-03-29T13:19:04.386807Z",
     "iopub.status.idle": "2022-03-29T13:19:04.395055Z",
     "shell.execute_reply": "2022-03-29T13:19:04.393608Z",
     "shell.execute_reply.started": "2022-03-29T13:19:04.387129Z"
    }
   },
   "outputs": [],
   "source": [
    "import pandas as pd\n",
    "from sklearn.model_selection import train_test_split\n",
    "import matplotlib.pyplot as plt\n",
    "import seaborn as sns\n",
    "from sklearn.metrics import confusion_matrix, accuracy_score, classification_report, ConfusionMatrixDisplay\n",
    "from sklearn.linear_model import LogisticRegression"
   ]
  },
  {
   "cell_type": "markdown",
   "metadata": {},
   "source": [
    "# Fetching data"
   ]
  },
  {
   "cell_type": "code",
   "execution_count": 29,
   "metadata": {
    "execution": {
     "iopub.execute_input": "2022-03-29T14:15:17.545856Z",
     "iopub.status.busy": "2022-03-29T14:15:17.544944Z",
     "iopub.status.idle": "2022-03-29T14:15:17.553484Z",
     "shell.execute_reply": "2022-03-29T14:15:17.552593Z",
     "shell.execute_reply.started": "2022-03-29T14:15:17.545786Z"
    }
   },
   "outputs": [],
   "source": [
    "train = pd.read_csv(\"../input/iris/Iris.csv\")"
   ]
  },
  {
   "cell_type": "markdown",
   "metadata": {},
   "source": [
    "## Exploring dataset"
   ]
  },
  {
   "cell_type": "code",
   "execution_count": 30,
   "metadata": {
    "execution": {
     "iopub.execute_input": "2022-03-29T14:15:19.397707Z",
     "iopub.status.busy": "2022-03-29T14:15:19.397352Z",
     "iopub.status.idle": "2022-03-29T14:15:19.413792Z",
     "shell.execute_reply": "2022-03-29T14:15:19.413213Z",
     "shell.execute_reply.started": "2022-03-29T14:15:19.397671Z"
    }
   },
   "outputs": [],
   "source": [
    "train.head()"
   ]
  },
  {
   "cell_type": "code",
   "execution_count": 31,
   "metadata": {
    "execution": {
     "iopub.execute_input": "2022-03-29T14:15:21.228513Z",
     "iopub.status.busy": "2022-03-29T14:15:21.227562Z",
     "iopub.status.idle": "2022-03-29T14:15:21.235468Z",
     "shell.execute_reply": "2022-03-29T14:15:21.234779Z",
     "shell.execute_reply.started": "2022-03-29T14:15:21.228446Z"
    }
   },
   "outputs": [],
   "source": [
    "train.shape"
   ]
  },
  {
   "cell_type": "code",
   "execution_count": 9,
   "metadata": {
    "execution": {
     "iopub.execute_input": "2022-03-29T13:19:55.787364Z",
     "iopub.status.busy": "2022-03-29T13:19:55.786134Z",
     "iopub.status.idle": "2022-03-29T13:19:55.817143Z",
     "shell.execute_reply": "2022-03-29T13:19:55.816198Z",
     "shell.execute_reply.started": "2022-03-29T13:19:55.787319Z"
    }
   },
   "outputs": [],
   "source": [
    "train.info()"
   ]
  },
  {
   "cell_type": "code",
   "execution_count": 11,
   "metadata": {
    "execution": {
     "iopub.execute_input": "2022-03-29T13:20:09.610089Z",
     "iopub.status.busy": "2022-03-29T13:20:09.609583Z",
     "iopub.status.idle": "2022-03-29T13:20:09.638079Z",
     "shell.execute_reply": "2022-03-29T13:20:09.637485Z",
     "shell.execute_reply.started": "2022-03-29T13:20:09.610052Z"
    }
   },
   "outputs": [],
   "source": [
    "train.describe()"
   ]
  },
  {
   "cell_type": "code",
   "execution_count": 12,
   "metadata": {
    "execution": {
     "iopub.execute_input": "2022-03-29T13:47:23.851013Z",
     "iopub.status.busy": "2022-03-29T13:47:23.850697Z",
     "iopub.status.idle": "2022-03-29T13:47:23.859210Z",
     "shell.execute_reply": "2022-03-29T13:47:23.858266Z",
     "shell.execute_reply.started": "2022-03-29T13:47:23.850982Z"
    }
   },
   "outputs": [],
   "source": [
    "train.dtypes"
   ]
  },
  {
   "cell_type": "code",
   "execution_count": 15,
   "metadata": {
    "execution": {
     "iopub.execute_input": "2022-03-29T13:48:17.009931Z",
     "iopub.status.busy": "2022-03-29T13:48:17.009572Z",
     "iopub.status.idle": "2022-03-29T13:48:17.020208Z",
     "shell.execute_reply": "2022-03-29T13:48:17.019505Z",
     "shell.execute_reply.started": "2022-03-29T13:48:17.009896Z"
    }
   },
   "outputs": [],
   "source": [
    "train.isnull().sum()"
   ]
  },
  {
   "cell_type": "markdown",
   "metadata": {},
   "source": [
    "## Data visualization"
   ]
  },
  {
   "cell_type": "code",
   "execution_count": 32,
   "metadata": {
    "execution": {
     "iopub.execute_input": "2022-03-29T14:15:25.470424Z",
     "iopub.status.busy": "2022-03-29T14:15:25.469758Z",
     "iopub.status.idle": "2022-03-29T14:15:25.764551Z",
     "shell.execute_reply": "2022-03-29T14:15:25.763580Z",
     "shell.execute_reply.started": "2022-03-29T14:15:25.470374Z"
    }
   },
   "outputs": [],
   "source": [
    "sns.countplot(x='Species',data=train)\n",
    "plt.show()"
   ]
  },
  {
   "cell_type": "code",
   "execution_count": 34,
   "metadata": {
    "execution": {
     "iopub.execute_input": "2022-03-29T14:15:53.767874Z",
     "iopub.status.busy": "2022-03-29T14:15:53.767338Z",
     "iopub.status.idle": "2022-03-29T14:15:55.791654Z",
     "shell.execute_reply": "2022-03-29T14:15:55.790652Z",
     "shell.execute_reply.started": "2022-03-29T14:15:53.767810Z"
    }
   },
   "outputs": [],
   "source": [
    "for f in ['SepalLengthCm', 'SepalWidthCm', 'PetalLengthCm', 'PetalWidthCm']:\n",
    "          sns.displot(x=f,data=train,hue='Species')\n",
    "          plt.show()"
   ]
  },
  {
   "cell_type": "code",
   "execution_count": 33,
   "metadata": {
    "execution": {
     "iopub.execute_input": "2022-03-29T14:15:32.805812Z",
     "iopub.status.busy": "2022-03-29T14:15:32.804879Z",
     "iopub.status.idle": "2022-03-29T14:15:33.158364Z",
     "shell.execute_reply": "2022-03-29T14:15:33.157799Z",
     "shell.execute_reply.started": "2022-03-29T14:15:32.805767Z"
    }
   },
   "outputs": [],
   "source": [
    "sns.heatmap(train.corr(), annot=True)"
   ]
  },
  {
   "cell_type": "markdown",
   "metadata": {},
   "source": [
    "## Train test Split"
   ]
  },
  {
   "cell_type": "code",
   "execution_count": 16,
   "metadata": {
    "execution": {
     "iopub.execute_input": "2022-03-29T13:53:25.312811Z",
     "iopub.status.busy": "2022-03-29T13:53:25.311558Z",
     "iopub.status.idle": "2022-03-29T13:53:25.321222Z",
     "shell.execute_reply": "2022-03-29T13:53:25.319926Z",
     "shell.execute_reply.started": "2022-03-29T13:53:25.312752Z"
    }
   },
   "outputs": [],
   "source": [
    "x = train[['SepalLengthCm','SepalWidthCm','PetalLengthCm','PetalWidthCm']]\n",
    "y = train['Species']"
   ]
  },
  {
   "cell_type": "code",
   "execution_count": 17,
   "metadata": {
    "execution": {
     "iopub.execute_input": "2022-03-29T13:53:35.581092Z",
     "iopub.status.busy": "2022-03-29T13:53:35.580354Z",
     "iopub.status.idle": "2022-03-29T13:53:35.588778Z",
     "shell.execute_reply": "2022-03-29T13:53:35.587757Z",
     "shell.execute_reply.started": "2022-03-29T13:53:35.581024Z"
    }
   },
   "outputs": [],
   "source": [
    "x.shape"
   ]
  },
  {
   "cell_type": "code",
   "execution_count": 18,
   "metadata": {
    "execution": {
     "iopub.execute_input": "2022-03-29T13:53:42.625659Z",
     "iopub.status.busy": "2022-03-29T13:53:42.625385Z",
     "iopub.status.idle": "2022-03-29T13:53:42.631398Z",
     "shell.execute_reply": "2022-03-29T13:53:42.630749Z",
     "shell.execute_reply.started": "2022-03-29T13:53:42.625628Z"
    }
   },
   "outputs": [],
   "source": [
    "y.shape"
   ]
  },
  {
   "cell_type": "code",
   "execution_count": 19,
   "metadata": {
    "execution": {
     "iopub.execute_input": "2022-03-29T13:54:47.113244Z",
     "iopub.status.busy": "2022-03-29T13:54:47.112314Z",
     "iopub.status.idle": "2022-03-29T13:54:47.120194Z",
     "shell.execute_reply": "2022-03-29T13:54:47.119372Z",
     "shell.execute_reply.started": "2022-03-29T13:54:47.113203Z"
    }
   },
   "outputs": [],
   "source": [
    "x_train, x_test, y_train, y_test = train_test_split(x, y, test_size=0.3, random_state=42)"
   ]
  },
  {
   "cell_type": "markdown",
   "metadata": {},
   "source": [
    "## Logistic regression"
   ]
  },
  {
   "cell_type": "code",
   "execution_count": 23,
   "metadata": {
    "execution": {
     "iopub.execute_input": "2022-03-29T14:13:07.768778Z",
     "iopub.status.busy": "2022-03-29T14:13:07.768414Z",
     "iopub.status.idle": "2022-03-29T14:13:07.774531Z",
     "shell.execute_reply": "2022-03-29T14:13:07.773569Z",
     "shell.execute_reply.started": "2022-03-29T14:13:07.768742Z"
    }
   },
   "outputs": [],
   "source": [
    "logreg = LogisticRegression(solver='liblinear', random_state = 0)"
   ]
  },
  {
   "cell_type": "code",
   "execution_count": 24,
   "metadata": {
    "execution": {
     "iopub.execute_input": "2022-03-29T14:13:17.722693Z",
     "iopub.status.busy": "2022-03-29T14:13:17.722176Z",
     "iopub.status.idle": "2022-03-29T14:13:17.736742Z",
     "shell.execute_reply": "2022-03-29T14:13:17.735971Z",
     "shell.execute_reply.started": "2022-03-29T14:13:17.722655Z"
    }
   },
   "outputs": [],
   "source": [
    "logreg.fit(x_train, y_train)"
   ]
  },
  {
   "cell_type": "code",
   "execution_count": 25,
   "metadata": {
    "execution": {
     "iopub.execute_input": "2022-03-29T14:13:31.923170Z",
     "iopub.status.busy": "2022-03-29T14:13:31.922275Z",
     "iopub.status.idle": "2022-03-29T14:13:31.929939Z",
     "shell.execute_reply": "2022-03-29T14:13:31.929066Z",
     "shell.execute_reply.started": "2022-03-29T14:13:31.923112Z"
    }
   },
   "outputs": [],
   "source": [
    "y_pred_test = logreg.predict(x_test)"
   ]
  },
  {
   "cell_type": "code",
   "execution_count": 26,
   "metadata": {
    "execution": {
     "iopub.execute_input": "2022-03-29T14:13:45.981158Z",
     "iopub.status.busy": "2022-03-29T14:13:45.980519Z",
     "iopub.status.idle": "2022-03-29T14:13:45.993768Z",
     "shell.execute_reply": "2022-03-29T14:13:45.993032Z",
     "shell.execute_reply.started": "2022-03-29T14:13:45.981099Z"
    }
   },
   "outputs": [],
   "source": [
    "train_score = logreg.score(x_train, y_train)\n",
    "test_score = logreg.score(x_test, y_test)\n",
    "print(train_score, test_score)"
   ]
  }
 ],
 "metadata": {
  "kernelspec": {
   "display_name": "Python 3",
   "language": "python",
   "name": "python3"
  },
  "language_info": {
   "codemirror_mode": {
    "name": "ipython",
    "version": 3
   },
   "file_extension": ".py",
   "mimetype": "text/x-python",
   "name": "python",
   "nbconvert_exporter": "python",
   "pygments_lexer": "ipython3",
   "version": "3.8.8"
  }
 },
 "nbformat": 4,
 "nbformat_minor": 4
}
